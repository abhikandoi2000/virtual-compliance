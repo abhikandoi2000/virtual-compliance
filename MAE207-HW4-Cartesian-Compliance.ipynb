{
 "cells": [
  {
   "cell_type": "markdown",
   "metadata": {},
   "source": [
    "# Cartesian Compliance"
   ]
  },
  {
   "cell_type": "markdown",
   "metadata": {},
   "source": [
    "## Import Modules"
   ]
  },
  {
   "cell_type": "code",
   "execution_count": null,
   "metadata": {},
   "outputs": [],
   "source": [
    "import numpy as np\n",
    "\n",
    "import matplotlib as mpl\n",
    "mpl.use('Qt5Agg')\n",
    "\n",
    "import matplotlib.pyplot as plt\n",
    "plt.ion()\n",
    "\n",
    "# for the symbolic manipulation of jacobian\n",
    "import sympy as sp\n",
    "from sympy.utilities.lambdify import lambdify\n",
    "\n",
    "from scipy.optimize import minimize\n",
    "from scipy.optimize import fsolve\n",
    "\n",
    "import time\n",
    "\n",
    "import odrive\n",
    "import odrive.utils\n",
    "import odrive.enums"
   ]
  },
  {
   "cell_type": "markdown",
   "metadata": {},
   "source": [
    "## Define leg assembly related variables"
   ]
  },
  {
   "cell_type": "code",
   "execution_count": null,
   "metadata": {},
   "outputs": [],
   "source": [
    "# code shared by professor\n",
    "## Motor constants\n",
    "K = 0.0285;                 # Nm / A\n",
    "peak_amp = 30;              # A\n",
    "peak_torque = K * peak_amp; # Nm\n",
    "m_motor = 0.2;              # kg\n",
    "m_assembly = 0.2;           # kg\n",
    "\n",
    "m_total = 2*m_motor + m_assembly; # kg\n",
    "\n",
    "gravity = 9.8;              # m/s^2\n",
    "\n",
    "weight = m_total * gravity  # N\n",
    "\n",
    "l1 = 0.09;                  # m \n",
    "l2 = 0.16;                  # m\n",
    "w = 0.07;                   # m\n",
    "\n",
    "# solve jacobian of constraint equation\n",
    "(thetaL_sym, \n",
    " thetaR_sym, \n",
    " link1_sym, \n",
    " link2_sym, \n",
    " width_sym) = sp.symbols(\"\"\"thetaL_sym \n",
    "                            thetaR_sym \n",
    "                            link1_sym \n",
    "                            link2_sym \n",
    "                            width_sym\"\"\", real = True)\n",
    "\n",
    "def T(theta, x, y):\n",
    "    \"\"\"\n",
    "    Function to return an arbitrary transformation matrix \n",
    "    This is for sympy symbolic calculation\n",
    "    \"\"\"\n",
    "    return sp.Matrix([[sp.cos(theta), -sp.sin(theta), x], \n",
    "                      [sp.sin(theta), sp.cos(theta), y],\n",
    "                      [0, 0, 1]])\n",
    "\n",
    "def sym_to_np(T):\n",
    "    return np.array(T).astype(np.float64)"
   ]
  },
  {
   "cell_type": "markdown",
   "metadata": {},
   "source": [
    "## Solve the FK"
   ]
  },
  {
   "cell_type": "code",
   "execution_count": null,
   "metadata": {},
   "outputs": [],
   "source": [
    "x_r = width_sym/2 + link1_sym*sp.cos(thetaR_sym)\n",
    "x_l = -width_sym/2 + link1_sym*sp.cos(thetaL_sym)\n",
    "\n",
    "y_r = link1_sym*sp.sin(thetaR_sym)\n",
    "y_l = link1_sym*sp.sin(thetaL_sym)\n",
    "\n",
    "theta3_sym = sp.atan2(y_r - y_l, x_r - x_l)\n",
    "L = sp.sqrt((x_l - x_r)**2 + (y_l - y_r)**2)\n",
    "\n",
    "FK = T(thetaL_sym, -width_sym/2, 0)@T(-(thetaL_sym - theta3_sym), link1_sym, 0)@sp.Matrix([L/2, sp.sqrt(link2_sym**2 - (L/2)**2), 1])\n",
    "FK = FK[:2,:]\n",
    "FK.simplify()\n",
    "FK"
   ]
  },
  {
   "cell_type": "markdown",
   "metadata": {},
   "source": [
    "## Find jacobian to find time-derivate of cartesian coordinates "
   ]
  },
  {
   "cell_type": "code",
   "execution_count": null,
   "metadata": {},
   "outputs": [],
   "source": [
    "xy = FK.subs([(link1_sym, l1), (link2_sym, l2), (width_sym, w)]).evalf()\n",
    "J = xy.jacobian([thetaL_sym, thetaR_sym]).evalf()\n",
    "J = lambdify((thetaL_sym, thetaR_sym), J)"
   ]
  },
  {
   "cell_type": "markdown",
   "metadata": {},
   "source": [
    "## Define helper functions"
   ]
  },
  {
   "cell_type": "code",
   "execution_count": null,
   "metadata": {},
   "outputs": [],
   "source": [
    "def findCoordOfEndPt(thetaL, thetaR):\n",
    "    M = FK.subs([(thetaL_sym, thetaL),(thetaR_sym, thetaR),(link1_sym, l1),(link2_sym, l2),(width_sym, w)])\n",
    "    x, y = sym_to_np(M).reshape((1,2))[0]\n",
    "    return x, y\n",
    "\n",
    "def getAngleL(count, zerocount, motor_cpr):\n",
    "    thetaL = 2*np.pi*(1/2-(count - zerocount)/motor_cpr)\n",
    "    return thetaL\n",
    "\n",
    "def getAngleR(count, zerocount, motor_cpr):\n",
    "    thetaR = -2*np.pi*(count - zerocount)/motor_cpr\n",
    "    return thetaR\n",
    "\n",
    "def rad2deg(angle):\n",
    "    return angle * (180/np.pi)"
   ]
  },
  {
   "cell_type": "markdown",
   "metadata": {},
   "source": [
    "## Connect to ODrive and Calibrate"
   ]
  },
  {
   "cell_type": "code",
   "execution_count": null,
   "metadata": {},
   "outputs": [],
   "source": [
    "# CONNECT TO ODRIVE\n",
    "\n",
    "odrv0 = odrive.find_any()\n",
    "if odrv0 is not None:\n",
    "    print('Connected!')\n",
    "    print('Odrive serial {}'.format(odrv0.serial_number))\n",
    "    \n",
    "    m0 = odrv0.axis0.motor.is_calibrated\n",
    "    m1 = odrv0.axis1.motor.is_calibrated\n",
    "    \n",
    "    print('Motor 0 calibrated: {}'.format(m0))\n",
    "    print('Motor 1 calibrated: {}'.format(m1))    \n",
    "    \n",
    "else:\n",
    "    print('Not connected')\n",
    "    "
   ]
  },
  {
   "cell_type": "code",
   "execution_count": null,
   "metadata": {},
   "outputs": [],
   "source": [
    "# CALIBRATE\n",
    "\n",
    "odrv0.axis0.requested_state = odrive.enums.AXIS_STATE_FULL_CALIBRATION_SEQUENCE\n",
    "odrv0.axis1.requested_state = odrive.enums.AXIS_STATE_FULL_CALIBRATION_SEQUENCE\n",
    "\n",
    "time.sleep(15)\n",
    "\n",
    "print('\\t Motor 0 calibration result: {} \\r\\n'.format(odrv0.axis0.motor.is_calibrated), \n",
    "      '\\t Motor 1 calibration result: {}'.format(odrv0.axis1.motor.is_calibrated))\n"
   ]
  },
  {
   "cell_type": "markdown",
   "metadata": {},
   "source": [
    "## Define zero pos estimate (useful for calculating ThetaL and ThetaR)"
   ]
  },
  {
   "cell_type": "code",
   "execution_count": null,
   "metadata": {},
   "outputs": [],
   "source": [
    "motor_cpr = (odrv0.axis0.encoder.config.cpr, \n",
    "             odrv0.axis1.encoder.config.cpr)\n",
    "\n",
    "zero_L = odrv0.axis0.encoder.pos_estimate\n",
    "zero_R = odrv0.axis1.encoder.pos_estimate\n",
    "print(zero_L, zero_R)"
   ]
  },
  {
   "cell_type": "markdown",
   "metadata": {},
   "source": [
    "## Define cartesian spring's equilibrium position"
   ]
  },
  {
   "cell_type": "code",
   "execution_count": null,
   "metadata": {},
   "outputs": [],
   "source": [
    "eqCountL = odrv0.axis0.encoder.pos_estimate\n",
    "eqCountR = odrv0.axis1.encoder.pos_estimate\n",
    "\n",
    "print('countL is {}, countR is {}'.format(eqCountL, eqCountR))\n",
    "\n",
    "eqThetaL = getAngleL(eqCountL, zero_L, motor_cpr[0])\n",
    "eqThetaR = getAngleR(eqCountR, zero_R, motor_cpr[1])\n",
    "\n",
    "print('eqThetaL is {}, eqThetaR is {}'.format(eqThetaL, eqThetaR))\n",
    "\n",
    "M = FK.subs([(thetaL_sym, eqThetaL),(thetaR_sym, eqThetaR),(link1_sym, l1),(link2_sym, l2),(width_sym, w)])\n",
    "eqX, eqY = sym_to_np(M).reshape((1,2))[0]"
   ]
  },
  {
   "cell_type": "markdown",
   "metadata": {},
   "source": [
    "## Clear any errors and put motors in closed loop control mode"
   ]
  },
  {
   "cell_type": "code",
   "execution_count": null,
   "metadata": {},
   "outputs": [],
   "source": [
    "odrv0.axis0.controller.error=0\n",
    "odrv0.axis0.motor.error=0\n",
    "odrv0.axis0.encoder.error=0\n",
    "odrv0.axis0.error=0\n",
    "\n",
    "odrv0.axis1.controller.error=0\n",
    "odrv0.axis1.motor.error=0\n",
    "odrv0.axis1.encoder.error=0\n",
    "odrv0.axis1.error=0\n",
    "\n",
    "# current limit\n",
    "curr_limit = 25 #A\n",
    "odrv0.axis0.motor.config.current_lim = curr_limit\n",
    "odrv0.axis1.motor.config.current_lim = curr_limit\n",
    "\n",
    "# set errors to 0\n",
    "odrv0.axis0.controller.error=0\n",
    "odrv0.axis0.motor.error=0\n",
    "odrv0.axis0.encoder.error=0\n",
    "odrv0.axis0.error=0\n",
    "\n",
    "odrv0.axis1.controller.error=0\n",
    "odrv0.axis1.motor.error=0\n",
    "odrv0.axis1.encoder.error=0\n",
    "odrv0.axis1.error=0\n",
    "\n",
    "odrv0.axis0.requested_state = odrive.enums.AXIS_STATE_CLOSED_LOOP_CONTROL\n",
    "odrv0.axis1.requested_state = odrive.enums.AXIS_STATE_CLOSED_LOOP_CONTROL\n"
   ]
  },
  {
   "cell_type": "code",
   "execution_count": null,
   "metadata": {},
   "outputs": [],
   "source": [
    "odrv0.axis0.controller.set_pos_setpoint(eqCountL,0,0)\n",
    "odrv0.axis1.controller.set_pos_setpoint(eqCountR,0,0)"
   ]
  },
  {
   "cell_type": "markdown",
   "metadata": {},
   "source": [
    "## Make leg assembly behave as polar spring"
   ]
  },
  {
   "cell_type": "markdown",
   "metadata": {},
   "source": [
    "### Approach\n",
    "\n",
    "I use the jacobian matrix J and angular velocity of the motors to find the time rate change of the x and y position of the foot (ie xdot, and ydot).\n",
    "\n",
    "For damping behavior I use `xdot` and `ydot` (ie time rate change of the x and y position) to apply forces that resist velocity for both x direction and y direction.\n",
    "\n",
    "I also damp the motors individually by a term propotional to thetaLDot and thetaRDot respectively for the left and right motors. The gain for this damping is `Ctheta` (see below).\n",
    "\n",
    "In order to find the current that has to be sent to the motors, I simply add the current calculated from the individual motor damping and the cartesian spring model calculation of currents using the force in x and y directions."
   ]
  },
  {
   "cell_type": "code",
   "execution_count": null,
   "metadata": {},
   "outputs": [],
   "source": [
    "# Kx=30 #N/m 25 working with 15 amp limit\n",
    "Kx=30 #N/m\n",
    "\n",
    "# Ky=60 #N/m 60 working with 15 amp limit\n",
    "Ky=0\n",
    "\n",
    "Cx=0 #N sec\n",
    "Cy=0 #N sec\n",
    "\n",
    "curr_limit = 25 # Amp\n",
    "\n",
    "# -Ctheta*thetaDot\n",
    "Ctheta = 0.8 # Nm sec / rad\n",
    "\n",
    "from time import sleep\n",
    "\n",
    "while True:\n",
    "    countL = odrv0.axis0.encoder.pos_estimate\n",
    "    countR = odrv0.axis1.encoder.pos_estimate\n",
    "    \n",
    "    actualThetaL = getAngleL(countL,zero_L, motor_cpr[0])\n",
    "    actualThetaR = getAngleR(countR,zero_R, motor_cpr[1])\n",
    "    \n",
    "    x, y = findCoordOfEndPt(actualThetaL, actualThetaR)\n",
    "    \n",
    "    delX = x - eqX\n",
    "    delY = y - eqY\n",
    "    \n",
    "    Jval = J(actualThetaL, actualThetaR)\n",
    "    \n",
    "    # postive clockwise\n",
    "    thetaLDot = (odrv0.axis0.encoder.vel_estimate * (2*np.pi)) / motor_cpr[0]\n",
    "    thetaRDot = (odrv0.axis1.encoder.vel_estimate * (2*np.pi)) / motor_cpr[1]\n",
    "    \n",
    "    angVel = np.array([[thetaLDot],[thetaRDot]])\n",
    "    \n",
    "    xdot = (Jval @ angVel)[0][0]\n",
    "    ydot = (Jval @ angVel)[1][0]\n",
    "\n",
    "    forceX = - Kx*delX - Cx*xdot\n",
    "    forceY = - Ky*delY - Cy*ydot\n",
    "        \n",
    "    force = np.array([[forceX],[forceY]])\n",
    "        \n",
    "    current = (1/K) * Jval.T @ force\n",
    "    \n",
    "    currentL = -current[0]\n",
    "    currentR = -current[1]\n",
    "    \n",
    "    currL = -Ctheta*thetaLDot + currentL\n",
    "    currR = -Ctheta*thetaRDot + currentR\n",
    "    \n",
    "    currL = min(np.abs(currL), curr_limit) * np.sign(currL)\n",
    "    currR = min(np.abs(currR), curr_limit) * np.sign(currR)\n",
    "    \n",
    "    odrv0.axis0.controller.set_current_setpoint(currL)\n",
    "    odrv0.axis1.controller.set_current_setpoint(currR)\n",
    "\n",
    "time.sleep(3)\n",
    "odrv0.axis0.controller.set_pos_setpoint(zero_L,0,0)\n",
    "odrv0.axis1.controller.set_pos_setpoint(zero_R,0,0)\n",
    "time.sleep(3)\n",
    "odrv0.axis0.requested_state = odrive.enums.AXIS_STATE_IDLE\n",
    "odrv0.axis1.requested_state = odrive.enums.AXIS_STATE_IDLE"
   ]
  },
  {
   "cell_type": "markdown",
   "metadata": {},
   "source": [
    "## Put ODrive in IDLE mode"
   ]
  },
  {
   "cell_type": "code",
   "execution_count": null,
   "metadata": {},
   "outputs": [],
   "source": [
    "odrv0.axis0.requested_state = odrive.enums.AXIS_STATE_IDLE\n",
    "odrv0.axis1.requested_state = odrive.enums.AXIS_STATE_IDLE"
   ]
  },
  {
   "cell_type": "markdown",
   "metadata": {},
   "source": [
    "## Delete ODrive object"
   ]
  },
  {
   "cell_type": "code",
   "execution_count": null,
   "metadata": {},
   "outputs": [],
   "source": [
    "del odrv0"
   ]
  }
 ],
 "metadata": {
  "kernelspec": {
   "display_name": "Python 3",
   "language": "python",
   "name": "python3"
  },
  "language_info": {
   "codemirror_mode": {
    "name": "ipython",
    "version": 3
   },
   "file_extension": ".py",
   "mimetype": "text/x-python",
   "name": "python",
   "nbconvert_exporter": "python",
   "pygments_lexer": "ipython3",
   "version": "3.7.3"
  }
 },
 "nbformat": 4,
 "nbformat_minor": 2
}
